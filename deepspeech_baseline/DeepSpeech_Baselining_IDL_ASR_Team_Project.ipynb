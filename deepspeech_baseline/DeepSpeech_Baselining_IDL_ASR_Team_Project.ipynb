{
  "cells": [
    {
      "cell_type": "markdown",
      "metadata": {
        "id": "l8dBbaHC9gNc"
      },
      "source": [
        "## Fetching the Dataset"
      ]
    },
    {
      "cell_type": "code",
      "execution_count": null,
      "metadata": {
        "id": "r6gi7U8l-rTZ"
      },
      "outputs": [],
      "source": [
        "!pip install --upgrade --force-reinstall --no-deps kaggle==1.5.8\n",
        "!mkdir /root/.kaggle\n",
        "\n",
        "with open(\"/root/.kaggle/kaggle.json\", \"w+\") as f:\n",
        "    f.write('{\"username\":\"anujanjirwala\",\"key\":\"d455ae22d205af474a7016f08f806735\"}') \n",
        "\n",
        "!chmod 600 /root/.kaggle/kaggle.json"
      ]
    },
    {
      "cell_type": "code",
      "execution_count": null,
      "metadata": {
        "id": "iCq_YfEa-nZ_"
      },
      "outputs": [],
      "source": [
        "!kaggle datasets download -d rtatman/speech-accent-archive\n",
        "!unzip -qo 'speech-accent-archive.zip' -d '/content/data'"
      ]
    },
    {
      "cell_type": "markdown",
      "metadata": {
        "id": "CDwpf5XT_1GP"
      },
      "source": [
        "## Load the pretrained Jasper Model"
      ]
    },
    {
      "cell_type": "code",
      "execution_count": null,
      "metadata": {
        "id": "Eca0qThd6OgN"
      },
      "outputs": [],
      "source": [
        "# Download acoustic models\n",
        "!wget https://github.com/mozilla/DeepSpeech/releases/download/v0.9.3/deepspeech-0.9.3-models.tflite -nv\n",
        "!wget https://github.com/mozilla/DeepSpeech/releases/download/v0.9.3/deepspeech-0.9.3-models.pbmm -nv\n",
        "\n",
        "!pip install deepspeech\n",
        "!pip install pydub"
      ]
    },
    {
      "cell_type": "code",
      "execution_count": null,
      "metadata": {
        "id": "emenZTAf6SQU"
      },
      "outputs": [],
      "source": [
        "import deepspeech\n",
        "\n",
        "# create DeepSpeech model object\n",
        "model = deepspeech.Model('/content/deepspeech-0.9.3-models.pbmm')\n"
      ]
    },
    {
      "cell_type": "code",
      "execution_count": null,
      "metadata": {
        "id": "_YN1DbvF6nRA"
      },
      "outputs": [],
      "source": [
        "from pydub import AudioSegment\n",
        "\n",
        "# load audio file\n",
        "audio = AudioSegment.from_file('/content/data/recordings/recordings/afrikaans1.mp3', format='mp3')\n"
      ]
    },
    {
      "cell_type": "code",
      "execution_count": null,
      "metadata": {
        "id": "mssS-nQa6qmU"
      },
      "outputs": [],
      "source": [
        "import numpy as np\n",
        "# convert audio to 16-bit PCM format\n",
        "audio = audio.set_frame_rate(16000).set_channels(1)\n",
        "\n",
        "# get raw audio data as bytes\n",
        "input_portion = np.array(audio.get_array_of_samples(), dtype=np.int16)"
      ]
    },
    {
      "cell_type": "code",
      "execution_count": null,
      "metadata": {
        "id": "l480j7Mu6zZR"
      },
      "outputs": [],
      "source": [
        "# transcribe audio using DeepSpeech model\n",
        "text = model.stt(input_portion)\n",
        "print(text)\n"
      ]
    },
    {
      "cell_type": "markdown",
      "metadata": {
        "id": "GHp_n9i7CQ2p"
      },
      "source": [
        "## Define the two metrics"
      ]
    },
    {
      "cell_type": "code",
      "execution_count": null,
      "metadata": {
        "id": "R3lSOgmCDi9q"
      },
      "outputs": [],
      "source": [
        "!pip install jiwer"
      ]
    },
    {
      "cell_type": "code",
      "execution_count": null,
      "metadata": {
        "id": "AwLmLG-kCJkj"
      },
      "outputs": [],
      "source": [
        "import jiwer"
      ]
    },
    {
      "cell_type": "code",
      "execution_count": null,
      "metadata": {
        "id": "xl1z3HKBI7QM"
      },
      "outputs": [],
      "source": [
        "f = open(\"/content/data/reading-passage.txt\")\n",
        "target = \"\"\n",
        "for line in f:\n",
        "  target += line\n",
        "\n",
        "text_transformation = jiwer.Compose([\n",
        "    jiwer.ToLowerCase(),\n",
        "    jiwer.RemoveWhiteSpace(replace_by_space=True),\n",
        "    jiwer.RemoveMultipleSpaces(),\n",
        "    jiwer.RemovePunctuation(),\n",
        "    # jiwer.ReduceToSingleSentence(),\n",
        "    jiwer.Strip(),\n",
        "    jiwer.SubstituteRegexes({r\"6\": r\"six\", r\"5\": r\"five\", r\"3\": r\"three\"}),\n",
        "    jiwer.ReduceToListOfListOfWords()\n",
        "]) \n",
        "\n",
        "def wer(output):\n",
        "  return jiwer.wer(\n",
        "    target, \n",
        "    output, \n",
        "    truth_transform=text_transformation, \n",
        "    hypothesis_transform=text_transformation)\n",
        "  \n",
        "def wil(output):\n",
        "  return jiwer.wil(\n",
        "    target, \n",
        "    output, \n",
        "    truth_transform=text_transformation, \n",
        "    hypothesis_transform=text_transformation)\n"
      ]
    },
    {
      "cell_type": "markdown",
      "metadata": {
        "id": "GDF0PSbZNw0k"
      },
      "source": [
        "## Transcribe and recording the data"
      ]
    },
    {
      "cell_type": "code",
      "execution_count": null,
      "metadata": {
        "id": "pf-4J91DOMdw"
      },
      "outputs": [],
      "source": [
        "# open the speaker_all.csv\n",
        "import pandas as pd\n",
        "from tqdm.auto import tqdm"
      ]
    },
    {
      "cell_type": "code",
      "execution_count": null,
      "metadata": {
        "id": "FkitHBn6Oba8"
      },
      "outputs": [],
      "source": [
        "speakers = pd.read_csv('/content/data/speakers_all.csv')\n",
        "speakers['wer'] = 1.0\n",
        "speakers['wil'] = 1.0\n",
        "cnt = 0\n",
        "batch_bar   = tqdm(total=len(speakers), dynamic_ncols=True, leave=False, position=0)\n",
        "for index, row in speakers.iterrows():\n",
        "  if row['file_missing?']==False:\n",
        "    audio = AudioSegment.from_file('/content/data/recordings/recordings/'+row['filename']+'.mp3', format='mp3')\n",
        "    transcription = model.stt(np.array(audio.set_frame_rate(16000).set_channels(1).get_array_of_samples(), dtype=np.int16))\n",
        "    speakers.at[index,'wer'] = wer(transcription)\n",
        "    speakers.at[index,'wil'] = wil(transcription)\n",
        "  batch_bar.update()\n",
        "batch_bar.close()\n",
        "speakers.to_csv('results.csv')\n"
      ]
    }
  ],
  "metadata": {
    "accelerator": "GPU",
    "colab": {
      "provenance": []
    },
    "gpuClass": "standard",
    "kernelspec": {
      "display_name": "Python 3",
      "name": "python3"
    },
    "language_info": {
      "name": "python"
    }
  },
  "nbformat": 4,
  "nbformat_minor": 0
}